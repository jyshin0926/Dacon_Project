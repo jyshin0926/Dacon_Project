{
 "cells": [
  {
   "cell_type": "code",
   "execution_count": 51,
   "metadata": {},
   "outputs": [],
   "source": [
    "'''data'''\n",
    "import pandas as pd\n",
    "import numpy as np\n",
    "from datetime import datetime\n",
    "import math\n",
    "\n",
    "\n",
    "'''plotting'''\n",
    "import matplotlib.pyplot as plt\n",
    "from matplotlib import rc, font_manager\n",
    "import seaborn as sns\n",
    "\n",
    "'''sys library'''\n",
    "#plt.style.use('fivethirtyeight')\n",
    "import warnings\n",
    "import os\n",
    "import gc\n",
    "warnings.filterwarnings('ignore')\n",
    "%matplotlib inline\n",
    "rc('font',family=\"NanumSquareR\")\n",
    "\n",
    "'''modeling'''\n",
    "from sklearn.ensemble import RandomForestClassifier, RandomForestRegressor\n",
    "#from ggplot import *\n",
    "from sklearn.linear_model import LinearRegression\n",
    "import scipy.stats as st\n",
    "import lightgbm as lgb\n",
    "from sklearn.svm import SVC\n",
    "from sklearn.linear_model import LogisticRegression\n",
    "import xgboost as xgb\n",
    "from sklearn.ensemble import RandomForestRegressor\n",
    "\n",
    "from sklearn.preprocessing import LabelEncoder\n",
    "from sklearn.preprocessing import OneHotEncoder\n",
    "from scipy.stats import uniform, randint\n",
    "from sklearn.datasets import load_breast_cancer, load_diabetes, load_wine\n",
    "from sklearn.metrics import auc, accuracy_score, confusion_matrix, mean_squared_error, f1_score, roc_auc_score\n",
    "from sklearn.model_selection import cross_val_score, GridSearchCV, KFold, RandomizedSearchCV, train_test_split\n",
    "from sklearn.metrics import mean_squared_error, r2_score, mean_absolute_error, mean_squared_log_error\n",
    "#-*- coding: utf-8 -*-"
   ]
  },
  {
   "cell_type": "code",
   "execution_count": 2,
   "metadata": {},
   "outputs": [],
   "source": [
    "plt.style.use('ggplot') #ggplot스타일 사용\n",
    "plt.rc('axes', unicode_minus=False)\n",
    "rc('font', family='AppleGothic')"
   ]
  },
  {
   "cell_type": "code",
   "execution_count": 52,
   "metadata": {},
   "outputs": [],
   "source": [
    "jeju_df = pd.read_csv('jeju_data_ver1/201901-202003.csv')"
   ]
  },
  {
   "cell_type": "code",
   "execution_count": 53,
   "metadata": {},
   "outputs": [],
   "source": [
    "sub = pd.read_csv('jeju_data_ver1/submission.csv')"
   ]
  },
  {
   "cell_type": "code",
   "execution_count": 5,
   "metadata": {},
   "outputs": [],
   "source": [
    "sub_rf = pd.read_csv('jeju_data_ver1/submission.csv')"
   ]
  },
  {
   "cell_type": "code",
   "execution_count": 6,
   "metadata": {},
   "outputs": [],
   "source": [
    "sub_emb = pd.read_csv('jeju_data_ver1/submission.csv')"
   ]
  },
  {
   "cell_type": "markdown",
   "metadata": {},
   "source": [
    "# ***Data Cleansing***"
   ]
  },
  {
   "cell_type": "code",
   "execution_count": 33,
   "metadata": {},
   "outputs": [],
   "source": [
    "def data_wrangling(jeju_df):\n",
    "    year_ls = []\n",
    "    for i in jeju_df['REG_YYMM'].tolist():\n",
    "        year_ls.append(int(str(i)[:4]))\n",
    "\n",
    "    month_ls = []\n",
    "    for i in jeju_df['REG_YYMM'].tolist():\n",
    "        month_ls.append(int(str(i)[4:]))\n",
    "\n",
    "    jeju_df['year'] = year_ls\n",
    "    jeju_df['month'] = month_ls\n",
    "\n",
    "    jeju_df.drop(columns = 'REG_YYMM',inplace = True)\n",
    "\n",
    "    df = jeju_df.drop(columns = ['CARD_CCG_NM','HOM_CCG_NM'])\n",
    "\n",
    "    columns = ['CARD_SIDO_NM', 'STD_CLSS_NM', 'HOM_SIDO_NM', 'AGE', 'SEX_CTGO_CD', 'FLC', 'year', 'month']\n",
    "    df2 = df.groupby(columns).sum().reset_index(drop=False)\n",
    "\n",
    "    # 인코딩\n",
    "    dtypes = df2.dtypes\n",
    "    encoders = {}\n",
    "    for column in df2.columns:\n",
    "        if str(dtypes[column]) == 'object':\n",
    "            encoder = LabelEncoder()\n",
    "            encoder.fit(df2[column])\n",
    "            encoders[column] = encoder\n",
    "\n",
    "    for column in encoders.keys():\n",
    "        encoder = encoders[column]\n",
    "        df2[column] = encoder.transform(df2[column])\n",
    "        \n",
    "    return encoders, df2"
   ]
  },
  {
   "cell_type": "markdown",
   "metadata": {},
   "source": [
    "***4월 예측 데이터셋***"
   ]
  },
  {
   "cell_type": "code",
   "execution_count": 36,
   "metadata": {},
   "outputs": [],
   "source": [
    "encoder_real, df2_real = data_wrangling(jeju_df)"
   ]
  },
  {
   "cell_type": "markdown",
   "metadata": {},
   "source": [
    "***3월 예측 데이터셋***"
   ]
  },
  {
   "cell_type": "code",
   "execution_count": 63,
   "metadata": {},
   "outputs": [],
   "source": [
    "jeju_df_remove3 = jeju_df[jeju_df['REG_YYMM'] != 202003]"
   ]
  },
  {
   "cell_type": "code",
   "execution_count": 64,
   "metadata": {},
   "outputs": [],
   "source": [
    "encoder_remove3, df2_remove3 = data_wrangling(jeju_df_remove3)"
   ]
  },
  {
   "cell_type": "markdown",
   "metadata": {},
   "source": [
    "# ***Default Modeling***"
   ]
  },
  {
   "cell_type": "code",
   "execution_count": 41,
   "metadata": {},
   "outputs": [],
   "source": [
    "# 4월의 데이터를 예측하는 데이터\n",
    "# 랜덤으로 샘플링(개수 그대로) - frac : 비율\n",
    "train_num = df2_real.sample(frac=1, random_state=0)\n",
    "train_df = train_num.drop(columns = ['CSTMR_CNT','AMT','CNT'])\n",
    "\n",
    "# loglp -> 로그화를 통해서 데이터의 분포를 수정(왜도가 오른쪽이 긴 꼬리 분포)\n",
    "target = np.log1p(train_num['AMT'])"
   ]
  },
  {
   "cell_type": "code",
   "execution_count": 65,
   "metadata": {},
   "outputs": [],
   "source": [
    "# 3월 데이터를 검증셋으로 구축\n",
    "train_num_remove3 = df2_remove3.sample(frac=1, random_state=0)\n",
    "train_df_remove3 = train_num_remove3.drop(columns = ['CSTMR_CNT','AMT','CNT'])\n",
    "\n",
    "# loglp -> 로그화를 통해서 데이터의 분포를 수정(왜도가 오른쪽이 긴 꼬리 분포)\n",
    "target_remove3 = np.log1p(train_num_remove3['AMT'])"
   ]
  },
  {
   "cell_type": "markdown",
   "metadata": {},
   "source": [
    "# ***LGBM***"
   ]
  },
  {
   "cell_type": "code",
   "execution_count": 42,
   "metadata": {},
   "outputs": [],
   "source": [
    "# 예측 템플릿 만들기\n",
    "# 예측 템플릿을 실예측 탬플릿, 검증셋 탬플릿을 나눠서 구분\n",
    "def predict_temp(df,train_df,real_train = True):\n",
    "    if real_train == False:\n",
    "        CARD_SIDO_NMs = df['CARD_SIDO_NM'].unique()\n",
    "        STD_CLSS_NMs  = df['STD_CLSS_NM'].unique()\n",
    "        HOM_SIDO_NMs  = df['HOM_SIDO_NM'].unique()\n",
    "        AGEs          = df['AGE'].unique()\n",
    "        SEX_CTGO_CDs  = df['SEX_CTGO_CD'].unique()\n",
    "        FLCs          = df['FLC'].unique()\n",
    "        years         = [2020]\n",
    "        months        = [3]\n",
    "\n",
    "        temp = []\n",
    "        for CARD_SIDO_NM in CARD_SIDO_NMs:\n",
    "            for STD_CLSS_NM in STD_CLSS_NMs:\n",
    "                for HOM_SIDO_NM in HOM_SIDO_NMs:\n",
    "                    for AGE in AGEs:\n",
    "                        for SEX_CTGO_CD in SEX_CTGO_CDs:\n",
    "                            for FLC in FLCs:\n",
    "                                for year in years:\n",
    "                                    for month in months:\n",
    "                                        temp.append([CARD_SIDO_NM, STD_CLSS_NM, HOM_SIDO_NM, AGE, SEX_CTGO_CD, FLC, year, month])\n",
    "        temp = np.array(temp)\n",
    "        temp_df = pd.DataFrame(data=temp, columns=train_df.columns)\n",
    "\n",
    "        return temp_df\n",
    "    \n",
    "    elif real_train == True:\n",
    "        \n",
    "        CARD_SIDO_NMs = df['CARD_SIDO_NM'].unique()\n",
    "        STD_CLSS_NMs  = df['STD_CLSS_NM'].unique()\n",
    "        HOM_SIDO_NMs  = df['HOM_SIDO_NM'].unique()\n",
    "        AGEs          = df['AGE'].unique()\n",
    "        SEX_CTGO_CDs  = df['SEX_CTGO_CD'].unique()\n",
    "        FLCs          = df['FLC'].unique()\n",
    "        years         = [2020]\n",
    "        months        = [4,7]\n",
    "\n",
    "        temp = []\n",
    "        for CARD_SIDO_NM in CARD_SIDO_NMs:\n",
    "            for STD_CLSS_NM in STD_CLSS_NMs:\n",
    "                for HOM_SIDO_NM in HOM_SIDO_NMs:\n",
    "                    for AGE in AGEs:\n",
    "                        for SEX_CTGO_CD in SEX_CTGO_CDs:\n",
    "                            for FLC in FLCs:\n",
    "                                for year in years:\n",
    "                                    for month in months:\n",
    "                                        temp.append([CARD_SIDO_NM, STD_CLSS_NM, HOM_SIDO_NM, AGE, SEX_CTGO_CD, FLC, year, month])\n",
    "        temp = np.array(temp)\n",
    "        temp_df = pd.DataFrame(data=temp, columns=train_df.columns)\n",
    "\n",
    "        return temp_df\n",
    "        "
   ]
  },
  {
   "cell_type": "code",
   "execution_count": 87,
   "metadata": {},
   "outputs": [
    {
     "data": {
      "text/html": [
       "<div>\n",
       "<style scoped>\n",
       "    .dataframe tbody tr th:only-of-type {\n",
       "        vertical-align: middle;\n",
       "    }\n",
       "\n",
       "    .dataframe tbody tr th {\n",
       "        vertical-align: top;\n",
       "    }\n",
       "\n",
       "    .dataframe thead th {\n",
       "        text-align: right;\n",
       "    }\n",
       "</style>\n",
       "<table border=\"1\" class=\"dataframe\">\n",
       "  <thead>\n",
       "    <tr style=\"text-align: right;\">\n",
       "      <th></th>\n",
       "      <th>CARD_SIDO_NM</th>\n",
       "      <th>STD_CLSS_NM</th>\n",
       "      <th>HOM_SIDO_NM</th>\n",
       "      <th>AGE</th>\n",
       "      <th>SEX_CTGO_CD</th>\n",
       "      <th>FLC</th>\n",
       "      <th>year</th>\n",
       "      <th>month</th>\n",
       "      <th>AMT</th>\n",
       "      <th>REG_YYMM</th>\n",
       "    </tr>\n",
       "  </thead>\n",
       "  <tbody>\n",
       "    <tr>\n",
       "      <th>0</th>\n",
       "      <td>0</td>\n",
       "      <td>0</td>\n",
       "      <td>0</td>\n",
       "      <td>1</td>\n",
       "      <td>1</td>\n",
       "      <td>1</td>\n",
       "      <td>2020</td>\n",
       "      <td>3</td>\n",
       "      <td>205587.0</td>\n",
       "      <td>202003</td>\n",
       "    </tr>\n",
       "    <tr>\n",
       "      <th>1</th>\n",
       "      <td>0</td>\n",
       "      <td>0</td>\n",
       "      <td>0</td>\n",
       "      <td>1</td>\n",
       "      <td>1</td>\n",
       "      <td>2</td>\n",
       "      <td>2020</td>\n",
       "      <td>3</td>\n",
       "      <td>31107.0</td>\n",
       "      <td>202003</td>\n",
       "    </tr>\n",
       "    <tr>\n",
       "      <th>2</th>\n",
       "      <td>0</td>\n",
       "      <td>0</td>\n",
       "      <td>0</td>\n",
       "      <td>1</td>\n",
       "      <td>1</td>\n",
       "      <td>3</td>\n",
       "      <td>2020</td>\n",
       "      <td>3</td>\n",
       "      <td>7294.0</td>\n",
       "      <td>202003</td>\n",
       "    </tr>\n",
       "    <tr>\n",
       "      <th>3</th>\n",
       "      <td>0</td>\n",
       "      <td>0</td>\n",
       "      <td>0</td>\n",
       "      <td>1</td>\n",
       "      <td>1</td>\n",
       "      <td>4</td>\n",
       "      <td>2020</td>\n",
       "      <td>3</td>\n",
       "      <td>17869.0</td>\n",
       "      <td>202003</td>\n",
       "    </tr>\n",
       "    <tr>\n",
       "      <th>4</th>\n",
       "      <td>0</td>\n",
       "      <td>0</td>\n",
       "      <td>0</td>\n",
       "      <td>1</td>\n",
       "      <td>1</td>\n",
       "      <td>5</td>\n",
       "      <td>2020</td>\n",
       "      <td>3</td>\n",
       "      <td>17883.0</td>\n",
       "      <td>202003</td>\n",
       "    </tr>\n",
       "    <tr>\n",
       "      <th>...</th>\n",
       "      <td>...</td>\n",
       "      <td>...</td>\n",
       "      <td>...</td>\n",
       "      <td>...</td>\n",
       "      <td>...</td>\n",
       "      <td>...</td>\n",
       "      <td>...</td>\n",
       "      <td>...</td>\n",
       "      <td>...</td>\n",
       "      <td>...</td>\n",
       "    </tr>\n",
       "    <tr>\n",
       "      <th>829425</th>\n",
       "      <td>16</td>\n",
       "      <td>30</td>\n",
       "      <td>14</td>\n",
       "      <td>0</td>\n",
       "      <td>2</td>\n",
       "      <td>1</td>\n",
       "      <td>2020</td>\n",
       "      <td>3</td>\n",
       "      <td>3292.0</td>\n",
       "      <td>202003</td>\n",
       "    </tr>\n",
       "    <tr>\n",
       "      <th>829426</th>\n",
       "      <td>16</td>\n",
       "      <td>30</td>\n",
       "      <td>14</td>\n",
       "      <td>0</td>\n",
       "      <td>2</td>\n",
       "      <td>2</td>\n",
       "      <td>2020</td>\n",
       "      <td>3</td>\n",
       "      <td>1634.0</td>\n",
       "      <td>202003</td>\n",
       "    </tr>\n",
       "    <tr>\n",
       "      <th>829427</th>\n",
       "      <td>16</td>\n",
       "      <td>30</td>\n",
       "      <td>14</td>\n",
       "      <td>0</td>\n",
       "      <td>2</td>\n",
       "      <td>3</td>\n",
       "      <td>2020</td>\n",
       "      <td>3</td>\n",
       "      <td>524.0</td>\n",
       "      <td>202003</td>\n",
       "    </tr>\n",
       "    <tr>\n",
       "      <th>829428</th>\n",
       "      <td>16</td>\n",
       "      <td>30</td>\n",
       "      <td>14</td>\n",
       "      <td>0</td>\n",
       "      <td>2</td>\n",
       "      <td>4</td>\n",
       "      <td>2020</td>\n",
       "      <td>3</td>\n",
       "      <td>599.0</td>\n",
       "      <td>202003</td>\n",
       "    </tr>\n",
       "    <tr>\n",
       "      <th>829429</th>\n",
       "      <td>16</td>\n",
       "      <td>30</td>\n",
       "      <td>14</td>\n",
       "      <td>0</td>\n",
       "      <td>2</td>\n",
       "      <td>5</td>\n",
       "      <td>2020</td>\n",
       "      <td>3</td>\n",
       "      <td>598.0</td>\n",
       "      <td>202003</td>\n",
       "    </tr>\n",
       "  </tbody>\n",
       "</table>\n",
       "<p>829430 rows × 10 columns</p>\n",
       "</div>"
      ],
      "text/plain": [
       "        CARD_SIDO_NM  STD_CLSS_NM  HOM_SIDO_NM  AGE  SEX_CTGO_CD  FLC  year  \\\n",
       "0                  0            0            0    1            1    1  2020   \n",
       "1                  0            0            0    1            1    2  2020   \n",
       "2                  0            0            0    1            1    3  2020   \n",
       "3                  0            0            0    1            1    4  2020   \n",
       "4                  0            0            0    1            1    5  2020   \n",
       "...              ...          ...          ...  ...          ...  ...   ...   \n",
       "829425            16           30           14    0            2    1  2020   \n",
       "829426            16           30           14    0            2    2  2020   \n",
       "829427            16           30           14    0            2    3  2020   \n",
       "829428            16           30           14    0            2    4  2020   \n",
       "829429            16           30           14    0            2    5  2020   \n",
       "\n",
       "        month       AMT  REG_YYMM  \n",
       "0           3  205587.0    202003  \n",
       "1           3   31107.0    202003  \n",
       "2           3    7294.0    202003  \n",
       "3           3   17869.0    202003  \n",
       "4           3   17883.0    202003  \n",
       "...       ...       ...       ...  \n",
       "829425      3    3292.0    202003  \n",
       "829426      3    1634.0    202003  \n",
       "829427      3     524.0    202003  \n",
       "829428      3     599.0    202003  \n",
       "829429      3     598.0    202003  \n",
       "\n",
       "[829430 rows x 10 columns]"
      ]
     },
     "execution_count": 87,
     "metadata": {},
     "output_type": "execute_result"
    }
   ],
   "source": [
    "temp_remove3_lgb"
   ]
  },
  {
   "cell_type": "code",
   "execution_count": 68,
   "metadata": {},
   "outputs": [],
   "source": [
    "temp_remove3_lgb = predict_temp(df2_remove3, train_df_remove3,False)"
   ]
  },
  {
   "cell_type": "code",
   "execution_count": 56,
   "metadata": {},
   "outputs": [],
   "source": [
    "temp_real_lgb = predict_temp(df2_real,train_df,True)"
   ]
  },
  {
   "cell_type": "code",
   "execution_count": 58,
   "metadata": {
    "scrolled": true
   },
   "outputs": [],
   "source": [
    "# 학습 : 교차검증\n",
    "# LGBM 예측 (실 예측 or 검증셋 예측)\n",
    "def lgb_Regressor(train_df, temp, target):\n",
    "    \n",
    "    folds = KFold(n_splits=5,random_state = 1001)\n",
    "\n",
    "    sub_predict = np.zeros(temp.shape[0])\n",
    "    oof_predict = np.zeros(train_df.shape[0])\n",
    "    feature_importance_df = pd.DataFrame()\n",
    "\n",
    "    for folds_, (train_idx,valid_idx) in enumerate(folds.split(train_df,target)):\n",
    "        train_x, train_y = train_df.iloc[train_idx], target.iloc[train_idx]\n",
    "        valid_x, valid_y = train_df.iloc[valid_idx], target.iloc[valid_idx]\n",
    "        \n",
    "        '''\n",
    "        params = {\n",
    "            'learning_rate' : 0.05,\n",
    "            'boosting_type': 'gbdt',\n",
    "            'objective': 'tweedie',\n",
    "            'tweedie_variance_power': 1.1,\n",
    "            'metric': 'rmse',\n",
    "            'sub_row' : 0.75,\n",
    "            'lambda_l2' : 0.1\n",
    "        }'''\n",
    "        \n",
    "        # 기존 파라미터 n_estimators = 5000, eval_metric = rmsle(평가 metric로 있는건가...) 이 상태 그대로\n",
    "        # 학습량 5000까지 늘려서 검증해봐야겠다 근데 성능이 안좋을 것 같은게 처음에 완전 쌩 디폴트 파라미터로 제출한\n",
    "        # lgbm모델의 성능이 더 좋았음\n",
    "        reg = lgb.LGBMRegressor(random_state=0,n_estimators = 6000)\n",
    "\n",
    "        reg.fit(train_x, train_y, eval_set = [(train_x, train_y), (valid_x, valid_y)],\n",
    "               eval_metric='rmsle',verbose = 100)\n",
    "        \n",
    "        lgb.plot_metric(reg)\n",
    "        plt.show()\n",
    "        \n",
    "        oof_predict[valid_idx] = reg.predict(valid_x,num_iteration = reg.best_iteration_)\n",
    "        sub_predict += reg.predict(temp,num_iteration = reg.best_iteration_) / folds.n_splits\n",
    "\n",
    "        fold_importance_df = pd.DataFrame()\n",
    "        fold_importance_df[\"feature\"] = train_df.columns\n",
    "        fold_importance_df[\"importance\"] = reg.feature_importances_\n",
    "        fold_importance_df[\"fold\"] = folds_ + 1\n",
    "        feature_importance_df = pd.concat([feature_importance_df, fold_importance_df], axis=0)\n",
    "        \n",
    "    feature_importance_fin = feature_importance_df[[\"feature\", \"importance\"]].\\\n",
    "                groupby(\"feature\").mean().sort_values(by=\"importance\", ascending=False)\n",
    "    \n",
    "    \n",
    "    return sub_predict, oof_predict, feature_importance_fin"
   ]
  },
  {
   "cell_type": "code",
   "execution_count": 74,
   "metadata": {},
   "outputs": [
    {
     "name": "stdout",
     "output_type": "stream",
     "text": [
      "[100]\ttraining's l2: 3.2505\tvalid_1's l2: 3.24134\n",
      "[200]\ttraining's l2: 2.46951\tvalid_1's l2: 2.4699\n",
      "[300]\ttraining's l2: 2.03566\tvalid_1's l2: 2.0427\n",
      "[400]\ttraining's l2: 1.76832\tvalid_1's l2: 1.77791\n",
      "[500]\ttraining's l2: 1.57819\tvalid_1's l2: 1.59012\n",
      "[600]\ttraining's l2: 1.43612\tvalid_1's l2: 1.44934\n",
      "[700]\ttraining's l2: 1.33316\tvalid_1's l2: 1.3483\n",
      "[800]\ttraining's l2: 1.2641\tvalid_1's l2: 1.28064\n",
      "[900]\ttraining's l2: 1.16838\tvalid_1's l2: 1.185\n",
      "[1000]\ttraining's l2: 1.07566\tvalid_1's l2: 1.09298\n",
      "[1100]\ttraining's l2: 1.01186\tvalid_1's l2: 1.02947\n",
      "[1200]\ttraining's l2: 0.962053\tvalid_1's l2: 0.98045\n",
      "[1300]\ttraining's l2: 0.914898\tvalid_1's l2: 0.93383\n",
      "[1400]\ttraining's l2: 0.878228\tvalid_1's l2: 0.898107\n",
      "[1500]\ttraining's l2: 0.842655\tvalid_1's l2: 0.862977\n",
      "[1600]\ttraining's l2: 0.814236\tvalid_1's l2: 0.835563\n",
      "[1700]\ttraining's l2: 0.792219\tvalid_1's l2: 0.814412\n",
      "[1800]\ttraining's l2: 0.76671\tvalid_1's l2: 0.789423\n",
      "[1900]\ttraining's l2: 0.739755\tvalid_1's l2: 0.763319\n",
      "[2000]\ttraining's l2: 0.720614\tvalid_1's l2: 0.744735\n",
      "[2100]\ttraining's l2: 0.700319\tvalid_1's l2: 0.72513\n",
      "[2200]\ttraining's l2: 0.68236\tvalid_1's l2: 0.707928\n",
      "[2300]\ttraining's l2: 0.669851\tvalid_1's l2: 0.696406\n",
      "[2400]\ttraining's l2: 0.657954\tvalid_1's l2: 0.685234\n",
      "[2500]\ttraining's l2: 0.646218\tvalid_1's l2: 0.674043\n",
      "[2600]\ttraining's l2: 0.633713\tvalid_1's l2: 0.662299\n",
      "[2700]\ttraining's l2: 0.622205\tvalid_1's l2: 0.651338\n",
      "[2800]\ttraining's l2: 0.613815\tvalid_1's l2: 0.643868\n",
      "[2900]\ttraining's l2: 0.604521\tvalid_1's l2: 0.635111\n",
      "[3000]\ttraining's l2: 0.595126\tvalid_1's l2: 0.626389\n",
      "[3100]\ttraining's l2: 0.58687\tvalid_1's l2: 0.618825\n",
      "[3200]\ttraining's l2: 0.578795\tvalid_1's l2: 0.611415\n",
      "[3300]\ttraining's l2: 0.572167\tvalid_1's l2: 0.605675\n",
      "[3400]\ttraining's l2: 0.56567\tvalid_1's l2: 0.59988\n",
      "[3500]\ttraining's l2: 0.558177\tvalid_1's l2: 0.592905\n",
      "[3600]\ttraining's l2: 0.550908\tvalid_1's l2: 0.586316\n",
      "[3700]\ttraining's l2: 0.543921\tvalid_1's l2: 0.579911\n",
      "[3800]\ttraining's l2: 0.537198\tvalid_1's l2: 0.573853\n",
      "[3900]\ttraining's l2: 0.53086\tvalid_1's l2: 0.568335\n",
      "[4000]\ttraining's l2: 0.524972\tvalid_1's l2: 0.56308\n",
      "[4100]\ttraining's l2: 0.519574\tvalid_1's l2: 0.558367\n",
      "[4200]\ttraining's l2: 0.515357\tvalid_1's l2: 0.554948\n",
      "[4300]\ttraining's l2: 0.511468\tvalid_1's l2: 0.551871\n",
      "[4400]\ttraining's l2: 0.507018\tvalid_1's l2: 0.548071\n",
      "[4500]\ttraining's l2: 0.501591\tvalid_1's l2: 0.543325\n",
      "[4600]\ttraining's l2: 0.496169\tvalid_1's l2: 0.538436\n",
      "[4700]\ttraining's l2: 0.491813\tvalid_1's l2: 0.534609\n",
      "[4800]\ttraining's l2: 0.487744\tvalid_1's l2: 0.531183\n",
      "[4900]\ttraining's l2: 0.483794\tvalid_1's l2: 0.527809\n",
      "[5000]\ttraining's l2: 0.4803\tvalid_1's l2: 0.524957\n",
      "[5100]\ttraining's l2: 0.476047\tvalid_1's l2: 0.521222\n",
      "[5200]\ttraining's l2: 0.472177\tvalid_1's l2: 0.517954\n",
      "[5300]\ttraining's l2: 0.468769\tvalid_1's l2: 0.515116\n",
      "[5400]\ttraining's l2: 0.465048\tvalid_1's l2: 0.511988\n",
      "[5500]\ttraining's l2: 0.461352\tvalid_1's l2: 0.508862\n",
      "[5600]\ttraining's l2: 0.458537\tvalid_1's l2: 0.506568\n",
      "[5700]\ttraining's l2: 0.455863\tvalid_1's l2: 0.50451\n",
      "[5800]\ttraining's l2: 0.452624\tvalid_1's l2: 0.501799\n",
      "[5900]\ttraining's l2: 0.449736\tvalid_1's l2: 0.499484\n",
      "[6000]\ttraining's l2: 0.446498\tvalid_1's l2: 0.496888\n"
     ]
    },
    {
     "data": {
      "image/png": "[encoded data removed]",
      "text/plain": [
       "<Figure size 432x288 with 1 Axes>"
      ]
     },
     "metadata": {
      "needs_background": "light"
     },
     "output_type": "display_data"
    },
    {
     "name": "stdout",
     "output_type": "stream",
     "text": [
      "[100]\ttraining's l2: 3.13365\tvalid_1's l2: 3.15761\n",
      "[200]\ttraining's l2: 2.39486\tvalid_1's l2: 2.41946\n",
      "[300]\ttraining's l2: 1.97673\tvalid_1's l2: 1.99993\n",
      "[400]\ttraining's l2: 1.72086\tvalid_1's l2: 1.74355\n",
      "[500]\ttraining's l2: 1.53471\tvalid_1's l2: 1.55791\n",
      "[600]\ttraining's l2: 1.39087\tvalid_1's l2: 1.41311\n",
      "[700]\ttraining's l2: 1.26606\tvalid_1's l2: 1.28765\n",
      "[800]\ttraining's l2: 1.16732\tvalid_1's l2: 1.18908\n",
      "[900]\ttraining's l2: 1.09237\tvalid_1's l2: 1.1142\n",
      "[1000]\ttraining's l2: 1.0305\tvalid_1's l2: 1.05278\n",
      "[1100]\ttraining's l2: 0.97631\tvalid_1's l2: 0.998785\n",
      "[1200]\ttraining's l2: 0.931848\tvalid_1's l2: 0.954788\n",
      "[1300]\ttraining's l2: 0.89427\tvalid_1's l2: 0.91756\n",
      "[1400]\ttraining's l2: 0.855177\tvalid_1's l2: 0.878766\n",
      "[1500]\ttraining's l2: 0.824355\tvalid_1's l2: 0.848631\n",
      "[1600]\ttraining's l2: 0.788255\tvalid_1's l2: 0.812413\n",
      "[1700]\ttraining's l2: 0.759973\tvalid_1's l2: 0.784563\n",
      "[1800]\ttraining's l2: 0.73737\tvalid_1's l2: 0.762456\n",
      "[1900]\ttraining's l2: 0.718663\tvalid_1's l2: 0.744312\n",
      "[2000]\ttraining's l2: 0.703157\tvalid_1's l2: 0.729457\n",
      "[2100]\ttraining's l2: 0.685285\tvalid_1's l2: 0.712112\n",
      "[2200]\ttraining's l2: 0.669709\tvalid_1's l2: 0.697088\n",
      "[2300]\ttraining's l2: 0.655198\tvalid_1's l2: 0.682687\n",
      "[2400]\ttraining's l2: 0.641326\tvalid_1's l2: 0.66938\n",
      "[2500]\ttraining's l2: 0.629136\tvalid_1's l2: 0.657602\n",
      "[2600]\ttraining's l2: 0.617149\tvalid_1's l2: 0.646043\n",
      "[2700]\ttraining's l2: 0.604722\tvalid_1's l2: 0.634008\n",
      "[2800]\ttraining's l2: 0.595124\tvalid_1's l2: 0.624901\n",
      "[2900]\ttraining's l2: 0.586056\tvalid_1's l2: 0.616409\n",
      "[3000]\ttraining's l2: 0.576465\tvalid_1's l2: 0.607393\n",
      "[3100]\ttraining's l2: 0.568437\tvalid_1's l2: 0.599787\n",
      "[3200]\ttraining's l2: 0.561088\tvalid_1's l2: 0.593092\n",
      "[3300]\ttraining's l2: 0.553589\tvalid_1's l2: 0.586162\n",
      "[3400]\ttraining's l2: 0.546818\tvalid_1's l2: 0.579921\n",
      "[3500]\ttraining's l2: 0.541138\tvalid_1's l2: 0.574798\n",
      "[3600]\ttraining's l2: 0.534853\tvalid_1's l2: 0.569024\n",
      "[3700]\ttraining's l2: 0.528862\tvalid_1's l2: 0.563387\n",
      "[3800]\ttraining's l2: 0.523444\tvalid_1's l2: 0.558564\n",
      "[3900]\ttraining's l2: 0.51808\tvalid_1's l2: 0.553764\n",
      "[4000]\ttraining's l2: 0.512628\tvalid_1's l2: 0.548987\n",
      "[4100]\ttraining's l2: 0.507687\tvalid_1's l2: 0.544674\n",
      "[4200]\ttraining's l2: 0.503444\tvalid_1's l2: 0.541179\n",
      "[4300]\ttraining's l2: 0.499464\tvalid_1's l2: 0.537765\n",
      "[4400]\ttraining's l2: 0.495636\tvalid_1's l2: 0.534601\n",
      "[4500]\ttraining's l2: 0.491556\tvalid_1's l2: 0.531138\n",
      "[4600]\ttraining's l2: 0.487834\tvalid_1's l2: 0.52784\n",
      "[4700]\ttraining's l2: 0.483672\tvalid_1's l2: 0.524338\n",
      "[4800]\ttraining's l2: 0.479117\tvalid_1's l2: 0.520348\n",
      "[4900]\ttraining's l2: 0.475204\tvalid_1's l2: 0.517\n",
      "[5000]\ttraining's l2: 0.471778\tvalid_1's l2: 0.514157\n",
      "[5100]\ttraining's l2: 0.468248\tvalid_1's l2: 0.51119\n",
      "[5200]\ttraining's l2: 0.464989\tvalid_1's l2: 0.508451\n",
      "[5300]\ttraining's l2: 0.461596\tvalid_1's l2: 0.505486\n",
      "[5400]\ttraining's l2: 0.458168\tvalid_1's l2: 0.502602\n",
      "[5500]\ttraining's l2: 0.45524\tvalid_1's l2: 0.500187\n",
      "[5600]\ttraining's l2: 0.451638\tvalid_1's l2: 0.497049\n",
      "[5700]\ttraining's l2: 0.449064\tvalid_1's l2: 0.494999\n",
      "[5800]\ttraining's l2: 0.445875\tvalid_1's l2: 0.49224\n",
      "[5900]\ttraining's l2: 0.44298\tvalid_1's l2: 0.489787\n",
      "[6000]\ttraining's l2: 0.440641\tvalid_1's l2: 0.48785\n"
     ]
    },
    {
     "data": {
      "image/png": "[encoded data removed]",
      "text/plain": [
       "<Figure size 432x288 with 1 Axes>"
      ]
     },
     "metadata": {
      "needs_background": "light"
     },
     "output_type": "display_data"
    },
    {
     "name": "stdout",
     "output_type": "stream",
     "text": [
      "[100]\ttraining's l2: 3.15395\tvalid_1's l2: 3.15737\n",
      "[200]\ttraining's l2: 2.50433\tvalid_1's l2: 2.51084\n",
      "[300]\ttraining's l2: 2.09261\tvalid_1's l2: 2.09907\n",
      "[400]\ttraining's l2: 1.81761\tvalid_1's l2: 1.8244\n",
      "[500]\ttraining's l2: 1.57126\tvalid_1's l2: 1.57921\n",
      "[600]\ttraining's l2: 1.39579\tvalid_1's l2: 1.40463\n",
      "[700]\ttraining's l2: 1.2608\tvalid_1's l2: 1.26989\n",
      "[800]\ttraining's l2: 1.17737\tvalid_1's l2: 1.18702\n",
      "[900]\ttraining's l2: 1.09347\tvalid_1's l2: 1.10394\n",
      "[1000]\ttraining's l2: 1.03236\tvalid_1's l2: 1.04442\n",
      "[1100]\ttraining's l2: 0.979533\tvalid_1's l2: 0.992525\n",
      "[1200]\ttraining's l2: 0.924248\tvalid_1's l2: 0.938696\n",
      "[1300]\ttraining's l2: 0.88339\tvalid_1's l2: 0.898758\n",
      "[1400]\ttraining's l2: 0.850342\tvalid_1's l2: 0.866437\n",
      "[1500]\ttraining's l2: 0.818017\tvalid_1's l2: 0.835183\n",
      "[1600]\ttraining's l2: 0.788627\tvalid_1's l2: 0.806633\n",
      "[1700]\ttraining's l2: 0.766694\tvalid_1's l2: 0.785767\n",
      "[1800]\ttraining's l2: 0.748023\tvalid_1's l2: 0.76775\n",
      "[1900]\ttraining's l2: 0.728869\tvalid_1's l2: 0.749404\n",
      "[2000]\ttraining's l2: 0.709054\tvalid_1's l2: 0.730259\n",
      "[2100]\ttraining's l2: 0.695335\tvalid_1's l2: 0.717508\n",
      "[2200]\ttraining's l2: 0.681108\tvalid_1's l2: 0.70397\n",
      "[2300]\ttraining's l2: 0.666355\tvalid_1's l2: 0.689802\n",
      "[2400]\ttraining's l2: 0.652101\tvalid_1's l2: 0.676578\n",
      "[2500]\ttraining's l2: 0.640668\tvalid_1's l2: 0.665837\n",
      "[2600]\ttraining's l2: 0.628391\tvalid_1's l2: 0.654404\n",
      "[2700]\ttraining's l2: 0.61747\tvalid_1's l2: 0.644139\n",
      "[2800]\ttraining's l2: 0.606265\tvalid_1's l2: 0.633553\n",
      "[2900]\ttraining's l2: 0.595473\tvalid_1's l2: 0.623591\n",
      "[3000]\ttraining's l2: 0.587348\tvalid_1's l2: 0.616287\n",
      "[3100]\ttraining's l2: 0.578815\tvalid_1's l2: 0.60859\n",
      "[3200]\ttraining's l2: 0.570959\tvalid_1's l2: 0.601545\n",
      "[3300]\ttraining's l2: 0.563723\tvalid_1's l2: 0.594756\n",
      "[3400]\ttraining's l2: 0.557287\tvalid_1's l2: 0.588927\n",
      "[3500]\ttraining's l2: 0.551782\tvalid_1's l2: 0.58415\n",
      "[3600]\ttraining's l2: 0.545527\tvalid_1's l2: 0.578695\n",
      "[3700]\ttraining's l2: 0.539368\tvalid_1's l2: 0.573138\n",
      "[3800]\ttraining's l2: 0.533417\tvalid_1's l2: 0.567833\n",
      "[3900]\ttraining's l2: 0.526887\tvalid_1's l2: 0.561864\n",
      "[4000]\ttraining's l2: 0.521701\tvalid_1's l2: 0.557285\n",
      "[4100]\ttraining's l2: 0.516713\tvalid_1's l2: 0.552918\n",
      "[4200]\ttraining's l2: 0.512317\tvalid_1's l2: 0.549159\n",
      "[4300]\ttraining's l2: 0.507311\tvalid_1's l2: 0.544606\n",
      "[4400]\ttraining's l2: 0.501959\tvalid_1's l2: 0.539855\n",
      "[4500]\ttraining's l2: 0.496612\tvalid_1's l2: 0.535119\n",
      "[4600]\ttraining's l2: 0.491795\tvalid_1's l2: 0.531116\n",
      "[4700]\ttraining's l2: 0.487635\tvalid_1's l2: 0.527526\n",
      "[4800]\ttraining's l2: 0.483818\tvalid_1's l2: 0.524197\n",
      "[4900]\ttraining's l2: 0.480748\tvalid_1's l2: 0.521696\n",
      "[5000]\ttraining's l2: 0.477316\tvalid_1's l2: 0.518861\n",
      "[5100]\ttraining's l2: 0.472868\tvalid_1's l2: 0.514899\n",
      "[5200]\ttraining's l2: 0.469401\tvalid_1's l2: 0.512023\n",
      "[5300]\ttraining's l2: 0.46547\tvalid_1's l2: 0.508638\n",
      "[5400]\ttraining's l2: 0.461739\tvalid_1's l2: 0.505504\n",
      "[5500]\ttraining's l2: 0.458545\tvalid_1's l2: 0.502871\n",
      "[5600]\ttraining's l2: 0.455063\tvalid_1's l2: 0.49999\n",
      "[5700]\ttraining's l2: 0.452312\tvalid_1's l2: 0.497896\n",
      "[5800]\ttraining's l2: 0.449221\tvalid_1's l2: 0.495351\n",
      "[5900]\ttraining's l2: 0.446013\tvalid_1's l2: 0.492721\n",
      "[6000]\ttraining's l2: 0.442918\tvalid_1's l2: 0.490276\n"
     ]
    },
    {
     "data": {
      "image/png": "[encoded data removed]",
      "text/plain": [
       "<Figure size 432x288 with 1 Axes>"
      ]
     },
     "metadata": {
      "needs_background": "light"
     },
     "output_type": "display_data"
    },
    {
     "name": "stdout",
     "output_type": "stream",
     "text": [
      "[100]\ttraining's l2: 3.20579\tvalid_1's l2: 3.22099\n",
      "[200]\ttraining's l2: 2.3378\tvalid_1's l2: 2.34892\n",
      "[300]\ttraining's l2: 1.94392\tvalid_1's l2: 1.95834\n",
      "[400]\ttraining's l2: 1.68753\tvalid_1's l2: 1.70267\n",
      "[500]\ttraining's l2: 1.50182\tvalid_1's l2: 1.51872\n",
      "[600]\ttraining's l2: 1.38091\tvalid_1's l2: 1.39977\n",
      "[700]\ttraining's l2: 1.27382\tvalid_1's l2: 1.29441\n",
      "[800]\ttraining's l2: 1.19212\tvalid_1's l2: 1.21447\n",
      "[900]\ttraining's l2: 1.1203\tvalid_1's l2: 1.14352\n",
      "[1000]\ttraining's l2: 1.02847\tvalid_1's l2: 1.05099\n",
      "[1100]\ttraining's l2: 0.964442\tvalid_1's l2: 0.986867\n",
      "[1200]\ttraining's l2: 0.918913\tvalid_1's l2: 0.94125\n",
      "[1300]\ttraining's l2: 0.879103\tvalid_1's l2: 0.901932\n",
      "[1400]\ttraining's l2: 0.845138\tvalid_1's l2: 0.868191\n",
      "[1500]\ttraining's l2: 0.813429\tvalid_1's l2: 0.837242\n",
      "[1600]\ttraining's l2: 0.78485\tvalid_1's l2: 0.809371\n",
      "[1700]\ttraining's l2: 0.758643\tvalid_1's l2: 0.783954\n",
      "[1800]\ttraining's l2: 0.737558\tvalid_1's l2: 0.763393\n",
      "[1900]\ttraining's l2: 0.717847\tvalid_1's l2: 0.744131\n",
      "[2000]\ttraining's l2: 0.697053\tvalid_1's l2: 0.723763\n",
      "[2100]\ttraining's l2: 0.683155\tvalid_1's l2: 0.710635\n",
      "[2200]\ttraining's l2: 0.668385\tvalid_1's l2: 0.696205\n",
      "[2300]\ttraining's l2: 0.654779\tvalid_1's l2: 0.68312\n",
      "[2400]\ttraining's l2: 0.640705\tvalid_1's l2: 0.66946\n",
      "[2500]\ttraining's l2: 0.627047\tvalid_1's l2: 0.656271\n",
      "[2600]\ttraining's l2: 0.617085\tvalid_1's l2: 0.646928\n",
      "[2700]\ttraining's l2: 0.607592\tvalid_1's l2: 0.637853\n",
      "[2800]\ttraining's l2: 0.598995\tvalid_1's l2: 0.630109\n",
      "[2900]\ttraining's l2: 0.58995\tvalid_1's l2: 0.621742\n",
      "[3000]\ttraining's l2: 0.580551\tvalid_1's l2: 0.613011\n",
      "[3100]\ttraining's l2: 0.573522\tvalid_1's l2: 0.606588\n",
      "[3200]\ttraining's l2: 0.565898\tvalid_1's l2: 0.599712\n",
      "[3300]\ttraining's l2: 0.557645\tvalid_1's l2: 0.592105\n",
      "[3400]\ttraining's l2: 0.551807\tvalid_1's l2: 0.587042\n",
      "[3500]\ttraining's l2: 0.545874\tvalid_1's l2: 0.581672\n",
      "[3600]\ttraining's l2: 0.539286\tvalid_1's l2: 0.575577\n",
      "[3700]\ttraining's l2: 0.532423\tvalid_1's l2: 0.569327\n",
      "[3800]\ttraining's l2: 0.526328\tvalid_1's l2: 0.563951\n",
      "[3900]\ttraining's l2: 0.520009\tvalid_1's l2: 0.558162\n",
      "[4000]\ttraining's l2: 0.514957\tvalid_1's l2: 0.553813\n",
      "[4100]\ttraining's l2: 0.510081\tvalid_1's l2: 0.549593\n",
      "[4200]\ttraining's l2: 0.505662\tvalid_1's l2: 0.545823\n",
      "[4300]\ttraining's l2: 0.501066\tvalid_1's l2: 0.541799\n",
      "[4400]\ttraining's l2: 0.496617\tvalid_1's l2: 0.537971\n",
      "[4500]\ttraining's l2: 0.492506\tvalid_1's l2: 0.534406\n",
      "[4600]\ttraining's l2: 0.487818\tvalid_1's l2: 0.530425\n",
      "[4700]\ttraining's l2: 0.483685\tvalid_1's l2: 0.526984\n",
      "[4800]\ttraining's l2: 0.479587\tvalid_1's l2: 0.523632\n",
      "[4900]\ttraining's l2: 0.47557\tvalid_1's l2: 0.520294\n",
      "[5000]\ttraining's l2: 0.472407\tvalid_1's l2: 0.517877\n",
      "[5100]\ttraining's l2: 0.469147\tvalid_1's l2: 0.515189\n",
      "[5200]\ttraining's l2: 0.465954\tvalid_1's l2: 0.512713\n",
      "[5300]\ttraining's l2: 0.462682\tvalid_1's l2: 0.509975\n",
      "[5400]\ttraining's l2: 0.459512\tvalid_1's l2: 0.5074\n",
      "[5500]\ttraining's l2: 0.456538\tvalid_1's l2: 0.505086\n",
      "[5600]\ttraining's l2: 0.452897\tvalid_1's l2: 0.502122\n",
      "[5700]\ttraining's l2: 0.449426\tvalid_1's l2: 0.49922\n",
      "[5800]\ttraining's l2: 0.446006\tvalid_1's l2: 0.496237\n",
      "[5900]\ttraining's l2: 0.443378\tvalid_1's l2: 0.49415\n",
      "[6000]\ttraining's l2: 0.440687\tvalid_1's l2: 0.492105\n"
     ]
    },
    {
     "data": {
      "image/png": "[encoded data removed]",
      "text/plain": [
       "<Figure size 432x288 with 1 Axes>"
      ]
     },
     "metadata": {
      "needs_background": "light"
     },
     "output_type": "display_data"
    },
    {
     "name": "stdout",
     "output_type": "stream",
     "text": [
      "[100]\ttraining's l2: 3.1892\tvalid_1's l2: 3.18525\n",
      "[200]\ttraining's l2: 2.45309\tvalid_1's l2: 2.45159\n",
      "[300]\ttraining's l2: 2.09051\tvalid_1's l2: 2.08995\n",
      "[400]\ttraining's l2: 1.8222\tvalid_1's l2: 1.82319\n",
      "[500]\ttraining's l2: 1.58118\tvalid_1's l2: 1.5835\n",
      "[600]\ttraining's l2: 1.44999\tvalid_1's l2: 1.45227\n",
      "[700]\ttraining's l2: 1.34529\tvalid_1's l2: 1.35001\n",
      "[800]\ttraining's l2: 1.25957\tvalid_1's l2: 1.26573\n",
      "[900]\ttraining's l2: 1.15636\tvalid_1's l2: 1.16425\n",
      "[1000]\ttraining's l2: 1.07315\tvalid_1's l2: 1.0828\n",
      "[1100]\ttraining's l2: 1.00215\tvalid_1's l2: 1.01285\n",
      "[1200]\ttraining's l2: 0.95307\tvalid_1's l2: 0.964736\n",
      "[1300]\ttraining's l2: 0.914682\tvalid_1's l2: 0.928006\n",
      "[1400]\ttraining's l2: 0.881031\tvalid_1's l2: 0.895401\n",
      "[1500]\ttraining's l2: 0.845375\tvalid_1's l2: 0.860994\n",
      "[1600]\ttraining's l2: 0.817813\tvalid_1's l2: 0.834657\n",
      "[1700]\ttraining's l2: 0.796477\tvalid_1's l2: 0.814549\n",
      "[1800]\ttraining's l2: 0.773325\tvalid_1's l2: 0.792588\n",
      "[1900]\ttraining's l2: 0.751104\tvalid_1's l2: 0.77111\n",
      "[2000]\ttraining's l2: 0.732447\tvalid_1's l2: 0.75333\n",
      "[2100]\ttraining's l2: 0.716101\tvalid_1's l2: 0.737936\n",
      "[2200]\ttraining's l2: 0.700201\tvalid_1's l2: 0.722963\n",
      "[2300]\ttraining's l2: 0.686278\tvalid_1's l2: 0.710046\n",
      "[2400]\ttraining's l2: 0.674347\tvalid_1's l2: 0.69903\n",
      "[2500]\ttraining's l2: 0.657893\tvalid_1's l2: 0.683168\n",
      "[2600]\ttraining's l2: 0.645068\tvalid_1's l2: 0.671193\n",
      "[2700]\ttraining's l2: 0.630393\tvalid_1's l2: 0.657187\n",
      "[2800]\ttraining's l2: 0.620998\tvalid_1's l2: 0.648583\n",
      "[2900]\ttraining's l2: 0.61065\tvalid_1's l2: 0.639044\n",
      "[3000]\ttraining's l2: 0.600384\tvalid_1's l2: 0.629649\n",
      "[3100]\ttraining's l2: 0.591429\tvalid_1's l2: 0.621218\n",
      "[3200]\ttraining's l2: 0.584145\tvalid_1's l2: 0.614637\n",
      "[3300]\ttraining's l2: 0.575049\tvalid_1's l2: 0.606468\n",
      "[3400]\ttraining's l2: 0.566581\tvalid_1's l2: 0.598669\n",
      "[3500]\ttraining's l2: 0.558734\tvalid_1's l2: 0.591486\n",
      "[3600]\ttraining's l2: 0.552131\tvalid_1's l2: 0.585759\n",
      "[3700]\ttraining's l2: 0.545679\tvalid_1's l2: 0.580016\n",
      "[3800]\ttraining's l2: 0.538532\tvalid_1's l2: 0.573528\n",
      "[3900]\ttraining's l2: 0.533018\tvalid_1's l2: 0.568609\n",
      "[4000]\ttraining's l2: 0.52632\tvalid_1's l2: 0.562412\n",
      "[4100]\ttraining's l2: 0.520987\tvalid_1's l2: 0.55771\n",
      "[4200]\ttraining's l2: 0.51543\tvalid_1's l2: 0.552871\n",
      "[4300]\ttraining's l2: 0.510871\tvalid_1's l2: 0.549\n",
      "[4400]\ttraining's l2: 0.505712\tvalid_1's l2: 0.544506\n",
      "[4500]\ttraining's l2: 0.500379\tvalid_1's l2: 0.539843\n",
      "[4600]\ttraining's l2: 0.49495\tvalid_1's l2: 0.535012\n",
      "[4700]\ttraining's l2: 0.490828\tvalid_1's l2: 0.531596\n",
      "[4800]\ttraining's l2: 0.486623\tvalid_1's l2: 0.527817\n",
      "[4900]\ttraining's l2: 0.482269\tvalid_1's l2: 0.523968\n",
      "[5000]\ttraining's l2: 0.478152\tvalid_1's l2: 0.520406\n",
      "[5100]\ttraining's l2: 0.474079\tvalid_1's l2: 0.516954\n",
      "[5200]\ttraining's l2: 0.470855\tvalid_1's l2: 0.514304\n",
      "[5300]\ttraining's l2: 0.467389\tvalid_1's l2: 0.511345\n",
      "[5400]\ttraining's l2: 0.464002\tvalid_1's l2: 0.508384\n",
      "[5500]\ttraining's l2: 0.460659\tvalid_1's l2: 0.50568\n",
      "[5600]\ttraining's l2: 0.457209\tvalid_1's l2: 0.502723\n",
      "[5700]\ttraining's l2: 0.454104\tvalid_1's l2: 0.500351\n",
      "[5800]\ttraining's l2: 0.451043\tvalid_1's l2: 0.497915\n",
      "[5900]\ttraining's l2: 0.447961\tvalid_1's l2: 0.495405\n",
      "[6000]\ttraining's l2: 0.445278\tvalid_1's l2: 0.493331\n"
     ]
    },
    {
     "data": {
      "image/png": "[encoded data removed]",
      "text/plain": [
       "<Figure size 432x288 with 1 Axes>"
      ]
     },
     "metadata": {
      "needs_background": "light"
     },
     "output_type": "display_data"
    }
   ],
   "source": [
    "sub_lgb, oof_lgb,feature_importance_lgb = lgb_Regressor(train_df_remove3,\n",
    "                                                        temp_remove3_lgb,\n",
    "                                                        target_remove3)"
   ]
  },
  {
   "cell_type": "code",
   "execution_count": 59,
   "metadata": {
    "scrolled": true
   },
   "outputs": [
    {
     "name": "stdout",
     "output_type": "stream",
     "text": [
      "[100]\ttraining's l2: 3.21719\tvalid_1's l2: 3.20785\n",
      "[200]\ttraining's l2: 2.52127\tvalid_1's l2: 2.51341\n",
      "[300]\ttraining's l2: 2.10045\tvalid_1's l2: 2.09641\n",
      "[400]\ttraining's l2: 1.80947\tvalid_1's l2: 1.80855\n",
      "[500]\ttraining's l2: 1.60841\tvalid_1's l2: 1.60972\n",
      "[600]\ttraining's l2: 1.44806\tvalid_1's l2: 1.45132\n",
      "[700]\ttraining's l2: 1.33227\tvalid_1's l2: 1.33759\n",
      "[800]\ttraining's l2: 1.23294\tvalid_1's l2: 1.23968\n",
      "[900]\ttraining's l2: 1.15119\tvalid_1's l2: 1.15899\n",
      "[1000]\ttraining's l2: 1.06343\tvalid_1's l2: 1.0721\n",
      "[1100]\ttraining's l2: 1.00383\tvalid_1's l2: 1.0134\n",
      "[1200]\ttraining's l2: 0.957838\tvalid_1's l2: 0.968787\n",
      "[1300]\ttraining's l2: 0.917812\tvalid_1's l2: 0.929897\n",
      "[1400]\ttraining's l2: 0.879681\tvalid_1's l2: 0.892573\n",
      "[1500]\ttraining's l2: 0.843686\tvalid_1's l2: 0.857528\n",
      "[1600]\ttraining's l2: 0.813124\tvalid_1's l2: 0.82766\n",
      "[1700]\ttraining's l2: 0.788022\tvalid_1's l2: 0.803535\n",
      "[1800]\ttraining's l2: 0.763693\tvalid_1's l2: 0.779904\n",
      "[1900]\ttraining's l2: 0.745161\tvalid_1's l2: 0.76256\n",
      "[2000]\ttraining's l2: 0.724811\tvalid_1's l2: 0.743045\n",
      "[2100]\ttraining's l2: 0.70539\tvalid_1's l2: 0.724525\n",
      "[2200]\ttraining's l2: 0.68972\tvalid_1's l2: 0.709763\n",
      "[2300]\ttraining's l2: 0.671601\tvalid_1's l2: 0.692554\n",
      "[2400]\ttraining's l2: 0.657517\tvalid_1's l2: 0.679254\n",
      "[2500]\ttraining's l2: 0.645242\tvalid_1's l2: 0.66763\n",
      "[2600]\ttraining's l2: 0.632618\tvalid_1's l2: 0.656014\n",
      "[2700]\ttraining's l2: 0.622633\tvalid_1's l2: 0.646866\n",
      "[2800]\ttraining's l2: 0.613567\tvalid_1's l2: 0.638515\n",
      "[2900]\ttraining's l2: 0.604924\tvalid_1's l2: 0.630775\n",
      "[3000]\ttraining's l2: 0.596056\tvalid_1's l2: 0.622568\n",
      "[3100]\ttraining's l2: 0.587671\tvalid_1's l2: 0.6148\n",
      "[3200]\ttraining's l2: 0.57994\tvalid_1's l2: 0.607807\n",
      "[3300]\ttraining's l2: 0.572555\tvalid_1's l2: 0.601101\n",
      "[3400]\ttraining's l2: 0.56609\tvalid_1's l2: 0.595363\n",
      "[3500]\ttraining's l2: 0.558711\tvalid_1's l2: 0.588784\n",
      "[3600]\ttraining's l2: 0.551826\tvalid_1's l2: 0.582562\n",
      "[3700]\ttraining's l2: 0.544187\tvalid_1's l2: 0.575326\n",
      "[3800]\ttraining's l2: 0.538294\tvalid_1's l2: 0.570004\n",
      "[3900]\ttraining's l2: 0.533071\tvalid_1's l2: 0.565422\n",
      "[4000]\ttraining's l2: 0.528019\tvalid_1's l2: 0.561113\n",
      "[4100]\ttraining's l2: 0.523513\tvalid_1's l2: 0.557368\n",
      "[4200]\ttraining's l2: 0.518997\tvalid_1's l2: 0.553508\n",
      "[4300]\ttraining's l2: 0.513849\tvalid_1's l2: 0.548954\n",
      "[4400]\ttraining's l2: 0.509668\tvalid_1's l2: 0.545403\n",
      "[4500]\ttraining's l2: 0.505463\tvalid_1's l2: 0.541855\n",
      "[4600]\ttraining's l2: 0.500437\tvalid_1's l2: 0.537437\n",
      "[4700]\ttraining's l2: 0.495763\tvalid_1's l2: 0.533223\n",
      "[4800]\ttraining's l2: 0.49017\tvalid_1's l2: 0.528174\n",
      "[4900]\ttraining's l2: 0.486113\tvalid_1's l2: 0.524719\n",
      "[5000]\ttraining's l2: 0.48237\tvalid_1's l2: 0.521604\n",
      "[5100]\ttraining's l2: 0.47879\tvalid_1's l2: 0.518663\n",
      "[5200]\ttraining's l2: 0.475537\tvalid_1's l2: 0.51603\n",
      "[5300]\ttraining's l2: 0.472471\tvalid_1's l2: 0.513682\n",
      "[5400]\ttraining's l2: 0.469325\tvalid_1's l2: 0.511077\n",
      "[5500]\ttraining's l2: 0.466514\tvalid_1's l2: 0.50888\n",
      "[5600]\ttraining's l2: 0.463604\tvalid_1's l2: 0.506566\n",
      "[5700]\ttraining's l2: 0.460578\tvalid_1's l2: 0.504126\n",
      "[5800]\ttraining's l2: 0.457376\tvalid_1's l2: 0.5015\n",
      "[5900]\ttraining's l2: 0.454541\tvalid_1's l2: 0.499273\n",
      "[6000]\ttraining's l2: 0.451035\tvalid_1's l2: 0.496327\n"
     ]
    },
    {
     "name": "stderr",
     "output_type": "stream",
     "text": [
      "findfont: Font family ['NanumSquareR'] not found. Falling back to DejaVu Sans.\n",
      "findfont: Font family ['NanumSquareR'] not found. Falling back to DejaVu Sans.\n",
      "findfont: Font family ['NanumSquareR'] not found. Falling back to DejaVu Sans.\n"
     ]
    },
    {
     "data": {
      "image/png": "[encoded data removed]",
      "text/plain": [
       "<Figure size 432x288 with 1 Axes>"
      ]
     },
     "metadata": {
      "needs_background": "light"
     },
     "output_type": "display_data"
    },
    {
     "name": "stdout",
     "output_type": "stream",
     "text": [
      "[100]\ttraining's l2: 3.21092\tvalid_1's l2: 3.20928\n",
      "[200]\ttraining's l2: 2.45063\tvalid_1's l2: 2.45692\n",
      "[300]\ttraining's l2: 2.10702\tvalid_1's l2: 2.11577\n",
      "[400]\ttraining's l2: 1.77978\tvalid_1's l2: 1.78992\n",
      "[500]\ttraining's l2: 1.55225\tvalid_1's l2: 1.56403\n",
      "[600]\ttraining's l2: 1.42528\tvalid_1's l2: 1.43843\n",
      "[700]\ttraining's l2: 1.32373\tvalid_1's l2: 1.33778\n",
      "[800]\ttraining's l2: 1.21502\tvalid_1's l2: 1.23002\n",
      "[900]\ttraining's l2: 1.13219\tvalid_1's l2: 1.14803\n",
      "[1000]\ttraining's l2: 1.0622\tvalid_1's l2: 1.07857\n",
      "[1100]\ttraining's l2: 1.00888\tvalid_1's l2: 1.02565\n",
      "[1200]\ttraining's l2: 0.952092\tvalid_1's l2: 0.969476\n",
      "[1300]\ttraining's l2: 0.912123\tvalid_1's l2: 0.93037\n",
      "[1400]\ttraining's l2: 0.876559\tvalid_1's l2: 0.894778\n",
      "[1500]\ttraining's l2: 0.844223\tvalid_1's l2: 0.863327\n",
      "[1600]\ttraining's l2: 0.816612\tvalid_1's l2: 0.836238\n",
      "[1700]\ttraining's l2: 0.789755\tvalid_1's l2: 0.809979\n",
      "[1800]\ttraining's l2: 0.768984\tvalid_1's l2: 0.78977\n",
      "[1900]\ttraining's l2: 0.750234\tvalid_1's l2: 0.771779\n",
      "[2000]\ttraining's l2: 0.732117\tvalid_1's l2: 0.753965\n",
      "[2100]\ttraining's l2: 0.71541\tvalid_1's l2: 0.737716\n",
      "[2200]\ttraining's l2: 0.700175\tvalid_1's l2: 0.722939\n",
      "[2300]\ttraining's l2: 0.684574\tvalid_1's l2: 0.708015\n",
      "[2400]\ttraining's l2: 0.666626\tvalid_1's l2: 0.690748\n",
      "[2500]\ttraining's l2: 0.651612\tvalid_1's l2: 0.676052\n",
      "[2600]\ttraining's l2: 0.640131\tvalid_1's l2: 0.665222\n",
      "[2700]\ttraining's l2: 0.628985\tvalid_1's l2: 0.654744\n",
      "[2800]\ttraining's l2: 0.61775\tvalid_1's l2: 0.644321\n",
      "[2900]\ttraining's l2: 0.608342\tvalid_1's l2: 0.635578\n",
      "[3000]\ttraining's l2: 0.598867\tvalid_1's l2: 0.626895\n",
      "[3100]\ttraining's l2: 0.590879\tvalid_1's l2: 0.619617\n",
      "[3200]\ttraining's l2: 0.583483\tvalid_1's l2: 0.612734\n",
      "[3300]\ttraining's l2: 0.574985\tvalid_1's l2: 0.604757\n",
      "[3400]\ttraining's l2: 0.567854\tvalid_1's l2: 0.598192\n",
      "[3500]\ttraining's l2: 0.559355\tvalid_1's l2: 0.590146\n",
      "[3600]\ttraining's l2: 0.552381\tvalid_1's l2: 0.583666\n",
      "[3700]\ttraining's l2: 0.5452\tvalid_1's l2: 0.577015\n",
      "[3800]\ttraining's l2: 0.539217\tvalid_1's l2: 0.571661\n",
      "[3900]\ttraining's l2: 0.533597\tvalid_1's l2: 0.566779\n",
      "[4000]\ttraining's l2: 0.527329\tvalid_1's l2: 0.560845\n",
      "[4100]\ttraining's l2: 0.521949\tvalid_1's l2: 0.556036\n",
      "[4200]\ttraining's l2: 0.517258\tvalid_1's l2: 0.552025\n",
      "[4300]\ttraining's l2: 0.511921\tvalid_1's l2: 0.547255\n",
      "[4400]\ttraining's l2: 0.506999\tvalid_1's l2: 0.542917\n",
      "[4500]\ttraining's l2: 0.502193\tvalid_1's l2: 0.538675\n",
      "[4600]\ttraining's l2: 0.49766\tvalid_1's l2: 0.534688\n",
      "[4700]\ttraining's l2: 0.493181\tvalid_1's l2: 0.530617\n",
      "[4800]\ttraining's l2: 0.489192\tvalid_1's l2: 0.527199\n",
      "[4900]\ttraining's l2: 0.485539\tvalid_1's l2: 0.524183\n",
      "[5000]\ttraining's l2: 0.481418\tvalid_1's l2: 0.520718\n",
      "[5100]\ttraining's l2: 0.477706\tvalid_1's l2: 0.517563\n",
      "[5200]\ttraining's l2: 0.473853\tvalid_1's l2: 0.514099\n",
      "[5300]\ttraining's l2: 0.470607\tvalid_1's l2: 0.511507\n",
      "[5400]\ttraining's l2: 0.467237\tvalid_1's l2: 0.508621\n",
      "[5500]\ttraining's l2: 0.464088\tvalid_1's l2: 0.506126\n",
      "[5600]\ttraining's l2: 0.46134\tvalid_1's l2: 0.504085\n",
      "[5700]\ttraining's l2: 0.458457\tvalid_1's l2: 0.501803\n",
      "[5800]\ttraining's l2: 0.455407\tvalid_1's l2: 0.499313\n",
      "[5900]\ttraining's l2: 0.45248\tvalid_1's l2: 0.496914\n",
      "[6000]\ttraining's l2: 0.44951\tvalid_1's l2: 0.494527\n"
     ]
    },
    {
     "data": {
      "image/png": "[encoded data removed]",
      "text/plain": [
       "<Figure size 432x288 with 1 Axes>"
      ]
     },
     "metadata": {
      "needs_background": "light"
     },
     "output_type": "display_data"
    },
    {
     "name": "stdout",
     "output_type": "stream",
     "text": [
      "[100]\ttraining's l2: 3.23951\tvalid_1's l2: 3.24772\n",
      "[200]\ttraining's l2: 2.53905\tvalid_1's l2: 2.55164\n",
      "[300]\ttraining's l2: 2.12028\tvalid_1's l2: 2.13638\n",
      "[400]\ttraining's l2: 1.84117\tvalid_1's l2: 1.85945\n",
      "[500]\ttraining's l2: 1.60953\tvalid_1's l2: 1.6299\n",
      "[600]\ttraining's l2: 1.44485\tvalid_1's l2: 1.46729\n",
      "[700]\ttraining's l2: 1.33886\tvalid_1's l2: 1.36153\n",
      "[800]\ttraining's l2: 1.22997\tvalid_1's l2: 1.25331\n",
      "[900]\ttraining's l2: 1.12958\tvalid_1's l2: 1.15372\n",
      "[1000]\ttraining's l2: 1.06254\tvalid_1's l2: 1.08714\n",
      "[1100]\ttraining's l2: 0.999275\tvalid_1's l2: 1.02447\n",
      "[1200]\ttraining's l2: 0.955412\tvalid_1's l2: 0.981122\n",
      "[1300]\ttraining's l2: 0.917841\tvalid_1's l2: 0.943799\n",
      "[1400]\ttraining's l2: 0.885458\tvalid_1's l2: 0.911634\n",
      "[1500]\ttraining's l2: 0.853331\tvalid_1's l2: 0.879215\n",
      "[1600]\ttraining's l2: 0.823516\tvalid_1's l2: 0.849671\n",
      "[1700]\ttraining's l2: 0.796521\tvalid_1's l2: 0.82304\n",
      "[1800]\ttraining's l2: 0.772018\tvalid_1's l2: 0.798501\n",
      "[1900]\ttraining's l2: 0.749702\tvalid_1's l2: 0.776384\n",
      "[2000]\ttraining's l2: 0.729921\tvalid_1's l2: 0.757253\n",
      "[2100]\ttraining's l2: 0.71205\tvalid_1's l2: 0.740118\n",
      "[2200]\ttraining's l2: 0.697951\tvalid_1's l2: 0.726521\n",
      "[2300]\ttraining's l2: 0.684571\tvalid_1's l2: 0.713568\n",
      "[2400]\ttraining's l2: 0.671339\tvalid_1's l2: 0.700899\n",
      "[2500]\ttraining's l2: 0.657656\tvalid_1's l2: 0.687444\n",
      "[2600]\ttraining's l2: 0.644763\tvalid_1's l2: 0.675079\n",
      "[2700]\ttraining's l2: 0.633728\tvalid_1's l2: 0.664627\n",
      "[2800]\ttraining's l2: 0.622415\tvalid_1's l2: 0.653917\n",
      "[2900]\ttraining's l2: 0.613065\tvalid_1's l2: 0.645193\n",
      "[3000]\ttraining's l2: 0.603462\tvalid_1's l2: 0.63615\n",
      "[3100]\ttraining's l2: 0.593235\tvalid_1's l2: 0.626394\n",
      "[3200]\ttraining's l2: 0.584422\tvalid_1's l2: 0.618192\n",
      "[3300]\ttraining's l2: 0.576917\tvalid_1's l2: 0.611199\n",
      "[3400]\ttraining's l2: 0.569742\tvalid_1's l2: 0.604633\n",
      "[3500]\ttraining's l2: 0.561988\tvalid_1's l2: 0.597519\n",
      "[3600]\ttraining's l2: 0.555126\tvalid_1's l2: 0.591128\n",
      "[3700]\ttraining's l2: 0.54806\tvalid_1's l2: 0.584695\n",
      "[3800]\ttraining's l2: 0.542639\tvalid_1's l2: 0.579733\n",
      "[3900]\ttraining's l2: 0.53596\tvalid_1's l2: 0.573416\n",
      "[4000]\ttraining's l2: 0.531634\tvalid_1's l2: 0.569706\n",
      "[4100]\ttraining's l2: 0.526103\tvalid_1's l2: 0.564687\n",
      "[4200]\ttraining's l2: 0.521098\tvalid_1's l2: 0.560211\n",
      "[4300]\ttraining's l2: 0.515986\tvalid_1's l2: 0.555554\n",
      "[4400]\ttraining's l2: 0.511415\tvalid_1's l2: 0.551362\n",
      "[4500]\ttraining's l2: 0.506797\tvalid_1's l2: 0.54728\n",
      "[4600]\ttraining's l2: 0.502175\tvalid_1's l2: 0.543204\n",
      "[4700]\ttraining's l2: 0.497284\tvalid_1's l2: 0.538899\n",
      "[4800]\ttraining's l2: 0.493728\tvalid_1's l2: 0.536013\n",
      "[4900]\ttraining's l2: 0.49009\tvalid_1's l2: 0.532958\n",
      "[5000]\ttraining's l2: 0.486513\tvalid_1's l2: 0.529935\n",
      "[5100]\ttraining's l2: 0.482943\tvalid_1's l2: 0.526919\n",
      "[5200]\ttraining's l2: 0.479139\tvalid_1's l2: 0.523622\n",
      "[5300]\ttraining's l2: 0.475289\tvalid_1's l2: 0.520391\n",
      "[5400]\ttraining's l2: 0.471838\tvalid_1's l2: 0.517558\n",
      "[5500]\ttraining's l2: 0.469141\tvalid_1's l2: 0.515466\n",
      "[5600]\ttraining's l2: 0.466301\tvalid_1's l2: 0.513026\n",
      "[5700]\ttraining's l2: 0.46298\tvalid_1's l2: 0.510277\n",
      "[5800]\ttraining's l2: 0.459765\tvalid_1's l2: 0.507583\n",
      "[5900]\ttraining's l2: 0.456765\tvalid_1's l2: 0.50512\n",
      "[6000]\ttraining's l2: 0.453566\tvalid_1's l2: 0.502419\n"
     ]
    },
    {
     "data": {
      "image/png": "[encoded data removed]",
      "text/plain": [
       "<Figure size 432x288 with 1 Axes>"
      ]
     },
     "metadata": {
      "needs_background": "light"
     },
     "output_type": "display_data"
    },
    {
     "name": "stdout",
     "output_type": "stream",
     "text": [
      "[100]\ttraining's l2: 3.20359\tvalid_1's l2: 3.21102\n",
      "[200]\ttraining's l2: 2.44734\tvalid_1's l2: 2.45379\n",
      "[300]\ttraining's l2: 2.01818\tvalid_1's l2: 2.02527\n",
      "[400]\ttraining's l2: 1.78468\tvalid_1's l2: 1.79295\n",
      "[500]\ttraining's l2: 1.57269\tvalid_1's l2: 1.58172\n",
      "[600]\ttraining's l2: 1.46094\tvalid_1's l2: 1.47101\n",
      "[700]\ttraining's l2: 1.34534\tvalid_1's l2: 1.356\n",
      "[800]\ttraining's l2: 1.25444\tvalid_1's l2: 1.2662\n",
      "[900]\ttraining's l2: 1.17505\tvalid_1's l2: 1.1879\n",
      "[1000]\ttraining's l2: 1.10167\tvalid_1's l2: 1.1153\n",
      "[1100]\ttraining's l2: 1.03033\tvalid_1's l2: 1.0448\n",
      "[1200]\ttraining's l2: 0.975717\tvalid_1's l2: 0.990452\n",
      "[1300]\ttraining's l2: 0.926839\tvalid_1's l2: 0.942747\n",
      "[1400]\ttraining's l2: 0.890846\tvalid_1's l2: 0.907584\n",
      "[1500]\ttraining's l2: 0.85699\tvalid_1's l2: 0.87497\n",
      "[1600]\ttraining's l2: 0.82629\tvalid_1's l2: 0.845149\n",
      "[1700]\ttraining's l2: 0.802455\tvalid_1's l2: 0.822266\n",
      "[1800]\ttraining's l2: 0.780221\tvalid_1's l2: 0.801008\n",
      "[1900]\ttraining's l2: 0.758275\tvalid_1's l2: 0.779572\n",
      "[2000]\ttraining's l2: 0.739782\tvalid_1's l2: 0.761368\n",
      "[2100]\ttraining's l2: 0.721696\tvalid_1's l2: 0.743835\n",
      "[2200]\ttraining's l2: 0.705254\tvalid_1's l2: 0.728093\n",
      "[2300]\ttraining's l2: 0.689772\tvalid_1's l2: 0.713375\n",
      "[2400]\ttraining's l2: 0.669374\tvalid_1's l2: 0.693269\n",
      "[2500]\ttraining's l2: 0.653664\tvalid_1's l2: 0.678135\n",
      "[2600]\ttraining's l2: 0.642897\tvalid_1's l2: 0.668038\n",
      "[2700]\ttraining's l2: 0.63276\tvalid_1's l2: 0.658709\n",
      "[2800]\ttraining's l2: 0.622572\tvalid_1's l2: 0.649271\n",
      "[2900]\ttraining's l2: 0.613214\tvalid_1's l2: 0.640614\n",
      "[3000]\ttraining's l2: 0.603433\tvalid_1's l2: 0.631451\n",
      "[3100]\ttraining's l2: 0.594552\tvalid_1's l2: 0.623155\n",
      "[3200]\ttraining's l2: 0.586008\tvalid_1's l2: 0.615386\n",
      "[3300]\ttraining's l2: 0.57699\tvalid_1's l2: 0.607053\n",
      "[3400]\ttraining's l2: 0.569009\tvalid_1's l2: 0.599793\n",
      "[3500]\ttraining's l2: 0.562534\tvalid_1's l2: 0.593993\n",
      "[3600]\ttraining's l2: 0.555745\tvalid_1's l2: 0.58798\n",
      "[3700]\ttraining's l2: 0.550115\tvalid_1's l2: 0.583126\n",
      "[3800]\ttraining's l2: 0.544459\tvalid_1's l2: 0.578069\n",
      "[3900]\ttraining's l2: 0.538085\tvalid_1's l2: 0.572297\n",
      "[4000]\ttraining's l2: 0.532768\tvalid_1's l2: 0.567721\n",
      "[4100]\ttraining's l2: 0.525804\tvalid_1's l2: 0.561188\n",
      "[4200]\ttraining's l2: 0.520089\tvalid_1's l2: 0.556124\n",
      "[4300]\ttraining's l2: 0.514707\tvalid_1's l2: 0.551475\n",
      "[4400]\ttraining's l2: 0.510471\tvalid_1's l2: 0.547912\n",
      "[4500]\ttraining's l2: 0.505751\tvalid_1's l2: 0.543757\n",
      "[4600]\ttraining's l2: 0.501294\tvalid_1's l2: 0.539868\n",
      "[4700]\ttraining's l2: 0.497757\tvalid_1's l2: 0.537025\n",
      "[4800]\ttraining's l2: 0.492874\tvalid_1's l2: 0.532715\n",
      "[4900]\ttraining's l2: 0.488834\tvalid_1's l2: 0.529239\n",
      "[5000]\ttraining's l2: 0.485432\tvalid_1's l2: 0.526362\n",
      "[5100]\ttraining's l2: 0.481853\tvalid_1's l2: 0.523376\n",
      "[5200]\ttraining's l2: 0.478289\tvalid_1's l2: 0.520379\n",
      "[5300]\ttraining's l2: 0.474314\tvalid_1's l2: 0.516893\n",
      "[5400]\ttraining's l2: 0.47108\tvalid_1's l2: 0.514285\n",
      "[5500]\ttraining's l2: 0.467844\tvalid_1's l2: 0.511682\n",
      "[5600]\ttraining's l2: 0.464276\tvalid_1's l2: 0.508752\n",
      "[5700]\ttraining's l2: 0.461345\tvalid_1's l2: 0.506253\n",
      "[5800]\ttraining's l2: 0.458261\tvalid_1's l2: 0.50356\n",
      "[5900]\ttraining's l2: 0.45537\tvalid_1's l2: 0.501195\n",
      "[6000]\ttraining's l2: 0.452345\tvalid_1's l2: 0.498721\n"
     ]
    },
    {
     "data": {
      "image/png": "[encoded data removed]",
      "text/plain": [
       "<Figure size 432x288 with 1 Axes>"
      ]
     },
     "metadata": {
      "needs_background": "light"
     },
     "output_type": "display_data"
    },
    {
     "name": "stdout",
     "output_type": "stream",
     "text": [
      "[100]\ttraining's l2: 3.1828\tvalid_1's l2: 3.1984\n",
      "[200]\ttraining's l2: 2.51752\tvalid_1's l2: 2.5319\n",
      "[300]\ttraining's l2: 2.10796\tvalid_1's l2: 2.1226\n",
      "[400]\ttraining's l2: 1.88072\tvalid_1's l2: 1.89544\n",
      "[500]\ttraining's l2: 1.65224\tvalid_1's l2: 1.66663\n",
      "[600]\ttraining's l2: 1.45255\tvalid_1's l2: 1.46722\n",
      "[700]\ttraining's l2: 1.31335\tvalid_1's l2: 1.32795\n",
      "[800]\ttraining's l2: 1.20996\tvalid_1's l2: 1.22541\n",
      "[900]\ttraining's l2: 1.11377\tvalid_1's l2: 1.13061\n",
      "[1000]\ttraining's l2: 1.04232\tvalid_1's l2: 1.06016\n",
      "[1100]\ttraining's l2: 0.989754\tvalid_1's l2: 1.00787\n",
      "[1200]\ttraining's l2: 0.936846\tvalid_1's l2: 0.955638\n",
      "[1300]\ttraining's l2: 0.896231\tvalid_1's l2: 0.915706\n",
      "[1400]\ttraining's l2: 0.864277\tvalid_1's l2: 0.8845\n",
      "[1500]\ttraining's l2: 0.832317\tvalid_1's l2: 0.853432\n",
      "[1600]\ttraining's l2: 0.805078\tvalid_1's l2: 0.827274\n",
      "[1700]\ttraining's l2: 0.778702\tvalid_1's l2: 0.801134\n",
      "[1800]\ttraining's l2: 0.758317\tvalid_1's l2: 0.781501\n",
      "[1900]\ttraining's l2: 0.737322\tvalid_1's l2: 0.761068\n",
      "[2000]\ttraining's l2: 0.715655\tvalid_1's l2: 0.740031\n",
      "[2100]\ttraining's l2: 0.699204\tvalid_1's l2: 0.724379\n",
      "[2200]\ttraining's l2: 0.685347\tvalid_1's l2: 0.711173\n",
      "[2300]\ttraining's l2: 0.671809\tvalid_1's l2: 0.698292\n",
      "[2400]\ttraining's l2: 0.658131\tvalid_1's l2: 0.684929\n",
      "[2500]\ttraining's l2: 0.648331\tvalid_1's l2: 0.675769\n",
      "[2600]\ttraining's l2: 0.637494\tvalid_1's l2: 0.665491\n",
      "[2700]\ttraining's l2: 0.627824\tvalid_1's l2: 0.656327\n",
      "[2800]\ttraining's l2: 0.617888\tvalid_1's l2: 0.647052\n",
      "[2900]\ttraining's l2: 0.607938\tvalid_1's l2: 0.637725\n",
      "[3000]\ttraining's l2: 0.598954\tvalid_1's l2: 0.629363\n",
      "[3100]\ttraining's l2: 0.588486\tvalid_1's l2: 0.619569\n",
      "[3200]\ttraining's l2: 0.580276\tvalid_1's l2: 0.611871\n",
      "[3300]\ttraining's l2: 0.572607\tvalid_1's l2: 0.604629\n",
      "[3400]\ttraining's l2: 0.564296\tvalid_1's l2: 0.596991\n",
      "[3500]\ttraining's l2: 0.558706\tvalid_1's l2: 0.591967\n",
      "[3600]\ttraining's l2: 0.552249\tvalid_1's l2: 0.586081\n",
      "[3700]\ttraining's l2: 0.546264\tvalid_1's l2: 0.580796\n",
      "[3800]\ttraining's l2: 0.538709\tvalid_1's l2: 0.573768\n",
      "[3900]\ttraining's l2: 0.532962\tvalid_1's l2: 0.568702\n",
      "[4000]\ttraining's l2: 0.526612\tvalid_1's l2: 0.562905\n",
      "[4100]\ttraining's l2: 0.520965\tvalid_1's l2: 0.557986\n",
      "[4200]\ttraining's l2: 0.515865\tvalid_1's l2: 0.553354\n",
      "[4300]\ttraining's l2: 0.511658\tvalid_1's l2: 0.549786\n",
      "[4400]\ttraining's l2: 0.507287\tvalid_1's l2: 0.545981\n",
      "[4500]\ttraining's l2: 0.502535\tvalid_1's l2: 0.541874\n",
      "[4600]\ttraining's l2: 0.498078\tvalid_1's l2: 0.538077\n",
      "[4700]\ttraining's l2: 0.494452\tvalid_1's l2: 0.535111\n",
      "[4800]\ttraining's l2: 0.489777\tvalid_1's l2: 0.531077\n",
      "[4900]\ttraining's l2: 0.485782\tvalid_1's l2: 0.527659\n",
      "[5000]\ttraining's l2: 0.482576\tvalid_1's l2: 0.525064\n",
      "[5100]\ttraining's l2: 0.479537\tvalid_1's l2: 0.522591\n",
      "[5200]\ttraining's l2: 0.475284\tvalid_1's l2: 0.518916\n",
      "[5300]\ttraining's l2: 0.472124\tvalid_1's l2: 0.516372\n",
      "[5400]\ttraining's l2: 0.469242\tvalid_1's l2: 0.514146\n",
      "[5500]\ttraining's l2: 0.465946\tvalid_1's l2: 0.511281\n",
      "[5600]\ttraining's l2: 0.462445\tvalid_1's l2: 0.508245\n",
      "[5700]\ttraining's l2: 0.459616\tvalid_1's l2: 0.506055\n",
      "[5800]\ttraining's l2: 0.456437\tvalid_1's l2: 0.503477\n",
      "[5900]\ttraining's l2: 0.453511\tvalid_1's l2: 0.501232\n",
      "[6000]\ttraining's l2: 0.450676\tvalid_1's l2: 0.498845\n"
     ]
    },
    {
     "data": {
      "image/png": "[encoded data removed]",
      "text/plain": [
       "<Figure size 432x288 with 1 Axes>"
      ]
     },
     "metadata": {
      "needs_background": "light"
     },
     "output_type": "display_data"
    }
   ],
   "source": [
    "sub_lgb_real, oof_lgb_real,feature_importance_lgb_real = lgb_Regressor(train_df,\n",
    "                                                        temp_real_lgb,\n",
    "                                                        target)"
   ]
  },
  {
   "cell_type": "markdown",
   "metadata": {},
   "source": [
    "# ***변수 중요도***"
   ]
  },
  {
   "cell_type": "code",
   "execution_count": 26,
   "metadata": {},
   "outputs": [
    {
     "data": {
      "image/png": "[encoded data removed]",
      "text/plain": [
       "<Figure size 1152x864 with 1 Axes>"
      ]
     },
     "metadata": {},
     "output_type": "display_data"
    }
   ],
   "source": [
    "plt.figure(figsize = (16,12))\n",
    "plt.barh(feature_importance_lgb_real.index,feature_importance_lgb_real['importance'])\n",
    "plt.yticks(fontweight = 'bold')\n",
    "plt.show()"
   ]
  },
  {
   "cell_type": "markdown",
   "metadata": {},
   "source": [
    "# ***제출 및 검증 코드***"
   ]
  },
  {
   "cell_type": "code",
   "execution_count": 83,
   "metadata": {},
   "outputs": [],
   "source": [
    "# 로컬에서 validation으로 검증할 것인지 or 실제 제출 파일을 만들 것인지?\n",
    "def local_valid_function(sub,temp_df,sub_df,version_num,encoders,real_train = False):\n",
    "    if real_train == False:\n",
    "        pred = np.expm1(sub)\n",
    "        temp_df['AMT'] = np.round(pred, 0)\n",
    "        temp_df2 = temp_df\n",
    "        temp_df['REG_YYMM'] = temp_df['year']*100 + temp_df['month']\n",
    "        temp_df = temp_df[['REG_YYMM', 'CARD_SIDO_NM', 'STD_CLSS_NM', 'AMT']]\n",
    "        temp_df = temp_df.groupby(['REG_YYMM', 'CARD_SIDO_NM', 'STD_CLSS_NM']).sum().reset_index(drop=False)\n",
    "\n",
    "        # 디코딩 \n",
    "        temp_df['CARD_SIDO_NM'] = encoders['CARD_SIDO_NM'].inverse_transform(temp_df['CARD_SIDO_NM'])\n",
    "        temp_df['STD_CLSS_NM'] = encoders['STD_CLSS_NM'].inverse_transform(temp_df['STD_CLSS_NM'])\n",
    "\n",
    "        #test_valid3 = sub_df.drop(['AMT'], axis=1)\n",
    "        #test_valid3 = test_valid3.merge(temp_remove3_lgb, left_on=['REG_YYMM', 'CARD_SIDO_NM', 'STD_CLSS_NM'], right_on=['REG_YYMM', 'CARD_SIDO_NM', 'STD_CLSS_NM'], how='left')\n",
    "        #test_valid3.index.name = 'id'\n",
    "        #test_validation.drop(columns = 'id',inplace = True)\n",
    "        #sub.to_csv('제출폴더/submission_version1.csv', encoding='utf-8-sig')\n",
    "        #sub.head()\n",
    "    \n",
    "        return temp_df2 #test_valid3,\n",
    "    \n",
    "    elif real_train == True:\n",
    "        \n",
    "        pred = np.expm1(sub)\n",
    "        temp_df['AMT'] = np.round(pred, 0)\n",
    "        temp_df['REG_YYMM'] = temp_df['year']*100 + temp_df['month']\n",
    "        temp_df = temp_df[['REG_YYMM', 'CARD_SIDO_NM', 'STD_CLSS_NM', 'AMT']]\n",
    "        temp_df = temp_df.groupby(['REG_YYMM', 'CARD_SIDO_NM', 'STD_CLSS_NM']).sum().reset_index(drop=False)\n",
    "\n",
    "        # 디코딩 \n",
    "        temp_df['CARD_SIDO_NM'] = encoders['CARD_SIDO_NM'].inverse_transform(temp_df['CARD_SIDO_NM'])\n",
    "        temp_df['STD_CLSS_NM'] = encoders['STD_CLSS_NM'].inverse_transform(temp_df['STD_CLSS_NM'])\n",
    "\n",
    "        sub = sub_df.drop(['AMT'], axis=1)\n",
    "        sub = sub.merge(temp_df, left_on=['REG_YYMM', 'CARD_SIDO_NM', 'STD_CLSS_NM'], right_on=['REG_YYMM', 'CARD_SIDO_NM', 'STD_CLSS_NM'], how='left')\n",
    "        sub.index.name = 'id'\n",
    "        try:\n",
    "            sub.drop(columns = 'id',inplace = True)\n",
    "        except:\n",
    "            pass\n",
    "        sub.to_csv('제출폴더/submission_version{}.csv'.format(version_num), encoding='utf-8-sig')\n",
    "        #sub.head()\n",
    "        \n",
    "        return sub "
   ]
  },
  {
   "cell_type": "code",
   "execution_count": 61,
   "metadata": {
    "scrolled": true
   },
   "outputs": [],
   "source": [
    "sub = local_valid_function(sub_lgb_real,temp_real_lgb,sub,6,encoder_real,True)"
   ]
  },
  {
   "cell_type": "code",
   "execution_count": 85,
   "metadata": {},
   "outputs": [],
   "source": [
    "temp_df2 = local_valid_function(sub_lgb,temp_remove3_lgb,test_validation3,6,encoder_real,False)"
   ]
  },
  {
   "cell_type": "code",
   "execution_count": 337,
   "metadata": {},
   "outputs": [],
   "source": [
    "RMSLE = np.sqrt(mean_squared_log_error(origin, test_valid3['AMT']))"
   ]
  },
  {
   "cell_type": "code",
   "execution_count": 338,
   "metadata": {},
   "outputs": [
    {
     "data": {
      "text/plain": [
       "1.306050435537303"
      ]
     },
     "execution_count": 338,
     "metadata": {},
     "output_type": "execute_result"
    }
   ],
   "source": [
    "RMSLE"
   ]
  },
  {
   "cell_type": "markdown",
   "metadata": {},
   "source": [
    "# ***3월을 검증셋으로 테스트해보기***"
   ]
  },
  {
   "cell_type": "markdown",
   "metadata": {},
   "source": [
    "### ***3월 데이터 검증 셋 구축***"
   ]
  },
  {
   "cell_type": "code",
   "execution_count": 77,
   "metadata": {},
   "outputs": [],
   "source": [
    "test_validation0 = jeju_df.groupby(['REG_YYMM','CARD_SIDO_NM','STD_CLSS_NM'])['AMT'].sum().reset_index(name = 'AMT')"
   ]
  },
  {
   "cell_type": "code",
   "execution_count": 78,
   "metadata": {},
   "outputs": [],
   "source": [
    "test_validation3 = test_validation0[test_validation0['REG_YYMM']==202003]"
   ]
  },
  {
   "cell_type": "code",
   "execution_count": 334,
   "metadata": {},
   "outputs": [],
   "source": [
    "origin = test_validation3['AMT']"
   ]
  },
  {
   "cell_type": "markdown",
   "metadata": {},
   "source": [
    "### ***3월 데이터와 2월 데이터의 RMSLE***"
   ]
  },
  {
   "cell_type": "code",
   "execution_count": 288,
   "metadata": {},
   "outputs": [],
   "source": [
    "test_validation2 = test_validation0[test_validation0['REG_YYMM']==202002]"
   ]
  },
  {
   "cell_type": "code",
   "execution_count": 290,
   "metadata": {},
   "outputs": [],
   "source": [
    "test_valid = pd.merge(test_validation,test_validation2.drop(columns = 'REG_YYMM'),on = ['CARD_SIDO_NM','STD_CLSS_NM'],how = 'left')"
   ]
  },
  {
   "cell_type": "code",
   "execution_count": null,
   "metadata": {},
   "outputs": [],
   "source": [
    "test_valid2 = test_valid.dropna()"
   ]
  },
  {
   "cell_type": "code",
   "execution_count": 300,
   "metadata": {},
   "outputs": [],
   "source": [
    "test_valid2 = test_valid.fillna(0)"
   ]
  },
  {
   "cell_type": "code",
   "execution_count": 301,
   "metadata": {},
   "outputs": [],
   "source": [
    "RMSLE = np.sqrt(mean_squared_log_error(test_valid2['AMT_x'], test_valid2['AMT_y']))"
   ]
  },
  {
   "cell_type": "code",
   "execution_count": 302,
   "metadata": {},
   "outputs": [
    {
     "data": {
      "text/plain": [
       "1.068067060307771"
      ]
     },
     "execution_count": 302,
     "metadata": {},
     "output_type": "execute_result"
    }
   ],
   "source": [
    "RMSLE"
   ]
  },
  {
   "cell_type": "code",
   "execution_count": null,
   "metadata": {},
   "outputs": [],
   "source": []
  },
  {
   "cell_type": "code",
   "execution_count": null,
   "metadata": {},
   "outputs": [],
   "source": []
  },
  {
   "cell_type": "code",
   "execution_count": null,
   "metadata": {},
   "outputs": [],
   "source": []
  }
 ],
 "metadata": {
  "kernelspec": {
   "display_name": "Python 3",
   "language": "python",
   "name": "python3"
  },
  "language_info": {
   "codemirror_mode": {
    "name": "ipython",
    "version": 3
   },
   "file_extension": ".py",
   "mimetype": "text/x-python",
   "name": "python",
   "nbconvert_exporter": "python",
   "pygments_lexer": "ipython3",
   "version": "3.8.3"
  }
 },
 "nbformat": 4,
 "nbformat_minor": 4
}
