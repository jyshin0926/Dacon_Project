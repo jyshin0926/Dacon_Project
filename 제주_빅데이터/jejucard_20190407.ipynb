{
 "cells": [
  {
   "cell_type": "code",
   "execution_count": 2,
   "metadata": {},
   "outputs": [],
   "source": [
    "import pandas as pd\n",
    "import numpy as np"
   ]
  },
  {
   "cell_type": "code",
   "execution_count": 3,
   "metadata": {},
   "outputs": [],
   "source": [
    "data = pd.read_csv('./jeju_data_ver1/201901-202003.csv')\n",
    "data = data.fillna('')"
   ]
  },
  {
   "cell_type": "code",
   "execution_count": null,
   "metadata": {},
   "outputs": [],
   "source": [
    "df4 = data.copy()\n",
    "df4 = df4[['REG_YYMM', 'CARD_SIDO_NM', 'STD_CLSS_NM', 'AMT']]\n",
    "df4 = df4.groupby(['REG_YYMM', 'CARD_SIDO_NM', 'STD_CLSS_NM']).sum().reset_index(drop=False)\n",
    "df4 = df4.loc[df4['REG_YYMM']==201904]\n",
    "df4 = df4[['CARD_SIDO_NM', 'STD_CLSS_NM', 'AMT']]\n",
    "\n",
    "sub4 = pd.read_csv('submission.csv', index_col=0)\n",
    "sub4 = sub4.loc[sub4['REG_YYMM']==202004]\n",
    "sub4 = sub4[['CARD_SIDO_NM', 'STD_CLSS_NM']]\n",
    "sub4 = sub4.merge(df4, left_on=['CARD_SIDO_NM', 'STD_CLSS_NM'], right_on=['CARD_SIDO_NM', 'STD_CLSS_NM'], how='left')\n",
    "sub4 = sub4.fillna(0)\n",
    "\n",
    "\n",
    "# AMT4 = list(sub4['AMT'])\n",
    "AMT4 = list(np.expm1(np.log1p(sub4.AMT.values+1)))\n",
    "print(len(AMT4))\n",
    "\n",
    "df7 = data.copy()\n",
    "df7 = df7[['REG_YYMM', 'CARD_SIDO_NM', 'STD_CLSS_NM', 'AMT']]\n",
    "df7 = df7.groupby(['REG_YYMM', 'CARD_SIDO_NM', 'STD_CLSS_NM']).sum().reset_index(drop=False)\n",
    "df7 = df7.loc[df7['REG_YYMM']==201907]\n",
    "df7 = df7[['CARD_SIDO_NM', 'STD_CLSS_NM', 'AMT']]\n",
    "\n",
    "sub7 = pd.read_csv('submission.csv', index_col=0)\n",
    "sub7 = sub7.loc[sub7['REG_YYMM']==202004]\n",
    "sub7 = sub7[['CARD_SIDO_NM', 'STD_CLSS_NM']]\n",
    "sub7 = sub7.merge(df7, left_on=['CARD_SIDO_NM', 'STD_CLSS_NM'], right_on=['CARD_SIDO_NM', 'STD_CLSS_NM'], how='left')\n",
    "sub7 = sub7.fillna(0)\n",
    "\n",
    "# AMT7 = list(sub7['AMT'])\n",
    "AMT7 = list(np.expm1(np.log1p(sub7.AMT.values+1)))\n",
    "print(len(AMT7))\n",
    "\n",
    "AMT = AMT4+AMT7\n",
    "print(len(AMT))\n",
    "submission = pd.read_csv('submission.csv', index_col=0)\n",
    "submission['AMT'] = AMT\n",
    "submission.to_csv('dacon_submission_20190407_log1exp.csv', encoding='utf-8-sig')\n",
    "submission.head()"
   ]
  },
  {
   "cell_type": "code",
   "execution_count": null,
   "metadata": {},
   "outputs": [],
   "source": []
  }
 ],
 "metadata": {
  "kernelspec": {
   "display_name": "Python 3",
   "language": "python",
   "name": "python3"
  },
  "language_info": {
   "codemirror_mode": {
    "name": "ipython",
    "version": 3
   },
   "file_extension": ".py",
   "mimetype": "text/x-python",
   "name": "python",
   "nbconvert_exporter": "python",
   "pygments_lexer": "ipython3",
   "version": "3.8.3"
  }
 },
 "nbformat": 4,
 "nbformat_minor": 4
}
